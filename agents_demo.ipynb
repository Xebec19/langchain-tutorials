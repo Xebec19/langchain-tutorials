{
 "cells": [
  {
   "cell_type": "code",
   "execution_count": 2,
   "metadata": {},
   "outputs": [
    {
     "data": {
      "text/plain": [
       "'0.3.20'"
      ]
     },
     "execution_count": 2,
     "metadata": {},
     "output_type": "execute_result"
    }
   ],
   "source": [
    "import langchain \n",
    "langchain.__version__"
   ]
  },
  {
   "cell_type": "code",
   "execution_count": 3,
   "metadata": {},
   "outputs": [],
   "source": [
    "from langchain.agents import initialize_agent, Tool\n",
    "# from langchain_community.llms import Ollama\n",
    "from langchain_google_genai import GoogleGenerativeAI\n",
    "from dotenv import load_dotenv\n",
    "import os\n"
   ]
  },
  {
   "cell_type": "code",
   "execution_count": 4,
   "metadata": {},
   "outputs": [],
   "source": [
    "load_dotenv()\n",
    "\n",
    "API_KEY = os.getenv(\"GOOGLE_AI_API\")"
   ]
  },
  {
   "cell_type": "markdown",
   "metadata": {},
   "source": [
    "# Search Web"
   ]
  },
  {
   "cell_type": "code",
   "execution_count": 5,
   "metadata": {},
   "outputs": [
    {
     "name": "stderr",
     "output_type": "stream",
     "text": [
      "/tmp/ipykernel_8500/1839646698.py:13: LangChainDeprecationWarning: LangChain agents will continue to be supported, but it is recommended for new use cases to be built with LangGraph. LangGraph offers a more flexible and full-featured framework for building agents, including support for tool-calling, persistence of state, and human-in-the-loop workflows. For details, refer to the `LangGraph documentation <https://langchain-ai.github.io/langgraph/>`_ as well as guides for `Migrating from AgentExecutor <https://python.langchain.com/docs/how_to/migrate_agent/>`_ and LangGraph's `Pre-built ReAct agent <https://langchain-ai.github.io/langgraph/how-tos/create-react-agent/>`_.\n",
      "  agent = initialize_agent(tool, llm, agent=\"zero-shot-react-description\", verbose=True)\n",
      "/tmp/ipykernel_8500/1839646698.py:15: LangChainDeprecationWarning: The method `Chain.run` was deprecated in langchain 0.1.0 and will be removed in 1.0. Use :meth:`~invoke` instead.\n",
      "  response = agent.run(\"What are the latest top running movies in 2025\")\n"
     ]
    },
    {
     "name": "stdout",
     "output_type": "stream",
     "text": [
      "\n",
      "\n",
      "\u001b[1m> Entering new AgentExecutor chain...\u001b[0m\n",
      "\u001b[32;1m\u001b[1;3mI need to find the top running movies in 2025. Since it's impossible to know what will be top running in the future, I will search for predictions or lists of anticipated movies for 2025.\n",
      "\n",
      "Action: DuckDuckGo Search\n",
      "Action Input: \"most anticipated movies 2025\"\u001b[0m\n",
      "Observation: \u001b[36;1m\u001b[1;3mFind out what movies are coming in 2025, from superhero blockbusters to musical biopics, horror films to action thrillers. See the release dates, directors, stars, and plot summaries of the most noteworthy titles of the year. Find out what's coming to the big screen in 2025, from superhero sequels to musical adaptations to horror remakes. Rolling Stone's David Fear previews the most exciting films of the year, featuring stars like Tom Cruise, Cate Blanchett, Ariana Grande and more. Find out which movies ticket-buyers are looking forward to in 2025, from Captain America to Jurassic World. See the rankings, genres, performances and more in this article by Fandango staff. Here are the most anticipated movies coming up in 2025. Back in Action (Jan. 17) This Netflix action comedy from director Seth Gordon ( Baywatch , Identity Thief ) reunites Jamie Foxx and Cameron ... From Marvel reboots to musical adaptations, see what films are coming out in 2025 that you should not miss. Variety's list includes release dates, genres, cast, directors and plot summaries for each movie.\u001b[0m\n",
      "Thought:\u001b[32;1m\u001b[1;3mI have some promising results. It looks like several websites have published lists of anticipated movies for 2025. I'll refine my search to find a consolidated list.\n",
      "\n",
      "Action: DuckDuckGo Search\n",
      "Action Input: \"most anticipated movies 2025 list\"\u001b[0m\n",
      "Observation: \u001b[36;1m\u001b[1;3mBetter Man (2024). Release Date: January 10, 2025 (after limited release on 12/25/24) Director: Michael Gracey Starring: Jonno Davies, Steve Pemberton, Damon Herriman, Kate Mulvany, Alison Steadman Micheal Gracey, director of The Greatest Showman, takes the reins in a biopic about UK musician Robbie Williams.The film is an original musical based on the life and career experiences of Williams ... Hello, 2025, the upcoming annum that promises more, er, belated sequels, sci-fi extravaganzas, hopefully better superhero-movie spinoffs and the second half of that hit witch musical! If you like ... Here are the final results from Fandango's 2025 Most Anticipated Movies Survey: 2025's Most Anticipated Movies . 1. Captain America: Brave New World. 2. Mission: Impossible - The Final Reckoning. 3. Jurassic World Rebirth. 4. From the World of John Wick: Ballerina. 5. Putting together a list of the 25 most anticipated movies of any year is no easy task, as some films have to be overlooked. Not every 2025 Marvel Cinematic Universe movie can make the cut. Meanwhile, there's the return of franchises like Tron , Now You See Me , Five Nights at Freddy's , Nobody , and more that are also on the outside looking in. Here are the most-anticipated movies of 2025, from \"Captain America: Brave New World\" to \"Wicked: For Good\" and \"Avatar: Fire and Ash.\"\u001b[0m\n",
      "Thought:\u001b[32;1m\u001b[1;3mI have gathered information from various sources about anticipated movies of 2025. Based on the search results, here's a list of some of the most anticipated movies:\n",
      "\n",
      "*   Captain America: Brave New World\n",
      "*   Mission: Impossible - The Final Reckoning\n",
      "*   Jurassic World Rebirth\n",
      "*   From the World of John Wick: Ballerina\n",
      "*   Better Man (Robbie Williams Biopic)\n",
      "*   Wicked: For Good\n",
      "*   Avatar: Fire and Ash\n",
      "\n",
      "It is important to note that these are based on predictions and anticipation, and the actual top-running movies may vary.\n",
      "Final Answer: Some of the most anticipated movies of 2025 include Captain America: Brave New World, Mission: Impossible - The Final Reckoning, Jurassic World Rebirth, From the World of John Wick: Ballerina, Better Man (Robbie Williams Biopic), Wicked: For Good, and Avatar: Fire and Ash. However, these are based on current predictions and anticipation, and the actual top-running movies may differ.\u001b[0m\n",
      "\n",
      "\u001b[1m> Finished chain.\u001b[0m\n"
     ]
    }
   ],
   "source": [
    "from langchain_community.tools.ddg_search.tool import DuckDuckGoSearchRun\n",
    "\n",
    "search_tool = Tool(\n",
    "    name = \"DuckDuckGo Search\",\n",
    "    func= DuckDuckGoSearchRun().run,\n",
    "    description=\"Use this tool to perform web searches using DuckDuckGo\"\n",
    ")\n",
    "\n",
    "llm = GoogleGenerativeAI(model=\"gemini-2.0-flash\", google_api_key=API_KEY)\n",
    "\n",
    "tool = [search_tool]\n",
    "\n",
    "agent = initialize_agent(tool, llm, agent=\"zero-shot-react-description\", verbose=True)\n",
    "\n",
    "response = agent.run(\"What are the latest top running movies in 2025\")"
   ]
  },
  {
   "cell_type": "markdown",
   "metadata": {},
   "source": []
  },
  {
   "cell_type": "markdown",
   "metadata": {},
   "source": [
    "# Wikipedia Search"
   ]
  },
  {
   "cell_type": "code",
   "execution_count": 6,
   "metadata": {},
   "outputs": [
    {
     "name": "stdout",
     "output_type": "stream",
     "text": [
      "\n",
      "\n",
      "\u001b[1m> Entering new AgentExecutor chain...\u001b[0m\n",
      "\u001b[32;1m\u001b[1;3mI need to find out who Elon Musk is and then search for recent news about him. I'll start by searching Wikipedia for a general overview of Elon Musk.\n",
      "Action: Wikipedia Search\n",
      "Action Input: \"Elon Musk\"\u001b[0m\n",
      "Observation: \u001b[36;1m\u001b[1;3mPage: Elon Musk\n",
      "Summary: Elon Reeve Musk ( EE-lon; born June 28, 1971) is a businessman known for his key roles in Tesla, Inc., SpaceX, and Twitter (which he rebranded as X). Since 2025, he has been a senior advisor to United States president Donald Trump and the de facto head of the Department of Government Efficiency (DOGE). Musk is the wealthiest person in the world; as of March 2025, Forbes estimates his net worth to be US$343 billion. \n",
      "Born to a prominent family in Pretoria, South Africa, Musk emigrated to Canada in 1989 and acquired its citizenship though his mother. He moved to the U.S. and graduated from the University of Pennsylvania before moving to California to pursue business ventures. In 1995, Musk co-founded the software company Zip2. After its sale in 1999, he co-founded X.com, an online payment company that later merged to form PayPal, which was acquired by eBay in 2002 for $1.5 billion. That year, Musk also became a U.S. citizen.\n",
      "In 2002, Musk founded SpaceX and became its CEO and chief engineer. The company has since led innovations in reusable rockets and commercial spaceflight. In 2004, Musk joined Tesla, Inc., as an early investor, and became its CEO and product architect in 2008; it has become a market leader in electric vehicles. In 2015, he co-founded OpenAI to advance artificial intelligence research, but left its board in 2018. In 2016, Musk co-founded Neuralink, a company focused on brain–computer interfaces, and in 2017 launched the Boring Company, which aims to develop tunnel transportation. Musk was named Time magazine's Person of the Year in 2021. In 2022, he acquired Twitter, implementing significant changes and rebranding it as X in 2023. In January 2025, he was appointed head of Trump's newly created DOGE.\n",
      "Musk's political activities and views have made him a polarizing figure. He has been criticized for making unscientific and misleading statements, including COVID-19 misinformation and promoting conspiracy theories. His acquisition of Twitter (now X) was controversial due to a subsequent increase in hate speech and the spread of misinformation on the service. He has engaged in political activities in several countries, including as a vocal and financial supporter of Trump. Musk was the largest donor in the 2024 U.S. presidential election and is a supporter of global far-right figures, causes, and political parties.\n",
      "\n",
      "\n",
      "\n",
      "Page: Elon Musk salute controversy\n",
      "Summary: On January 20, 2025, while speaking at a rally celebrating U.S. president Donald Trump's second inauguration, businessman and political figure Elon Musk twice made a salute interpreted by some as a Nazi or the fascist Roman salute.\n",
      "On his own social media platform, X (formerly Twitter), Musk dismissed the accusations of Nazi sympathies, derided them as being politicized, and described them as a \"tired\" attack. The Anti-Defamation League defended Musk and argued that the gesture carried no significant meaning, but other Jewish organizations have condemned the gesture. Multiple European political parties demanded that Musk be banned from entering their countries. Neo-Nazi and white supremacist groups celebrated the salutes.\n",
      "\n",
      "Page: Views of Elon Musk\n",
      "Summary: Elon Musk is the owner of multiple companies, the wealthiest individual in the world, and a special government employee. Having rejected the conservative label, Musk has described himself as a political moderate; his views have become more right-wing over time, and have been characterized as libertarian and far-right. As the owner of Twitter, he has  suppressed critics, and after his involvement in European politics, his views have received criticism from some world leaders. Musk has also expressed his opinion on topics from science and technology to religion and philosophy.\n",
      "Within the context of American politics, Musk voted for Democratic candidates from 2008 until 2020, before switching to Republican candidates in 2022, and supporting Donald Trump in 2024 who he previously feude\u001b[0m\n",
      "Thought:\u001b[32;1m\u001b[1;3mI have information on Elon Musk, including his role as a senior advisor to President Trump, his acquisition and rebranding of Twitter as X, and some controversies surrounding his political views and activities.\n",
      "Final Answer: Elon Reeve Musk is a businessman known for his key roles in Tesla, Inc., SpaceX, and Twitter (which he rebranded as X). Since 2025, he has been a senior advisor to United States president Donald Trump and the de facto head of the Department of Government Efficiency (DOGE). As of March 2025, Forbes estimates his net worth to be US$343 billion. He has recently been involved in some controversies, including making a salute interpreted by some as a Nazi or the fascist Roman salute.\u001b[0m\n",
      "\n",
      "\u001b[1m> Finished chain.\u001b[0m\n",
      "Elon Reeve Musk is a businessman known for his key roles in Tesla, Inc., SpaceX, and Twitter (which he rebranded as X). Since 2025, he has been a senior advisor to United States president Donald Trump and the de facto head of the Department of Government Efficiency (DOGE). As of March 2025, Forbes estimates his net worth to be US$343 billion. He has recently been involved in some controversies, including making a salute interpreted by some as a Nazi or the fascist Roman salute.\n"
     ]
    }
   ],
   "source": [
    "from langchain_community.utilities.wikipedia import WikipediaAPIWrapper\n",
    "\n",
    "wiki_search_tool = Tool(\n",
    "    name=\"Wikipedia Search\",\n",
    "    func=WikipediaAPIWrapper().run,\n",
    "    description=\"Use this tool to search Wikipedia for information on any topic\"\n",
    ")\n",
    "\n",
    "llm = GoogleGenerativeAI(model=\"gemini-2.0-flash\",google_api_key=API_KEY)\n",
    "\n",
    "\n",
    "tool = [wiki_search_tool]\n",
    "\n",
    "agent = initialize_agent(tool, llm, agent=\"zero-shot-react-description\", verbose=True)\n",
    "\n",
    "response = agent.run(\"Who is Elon Musk? Tell me the latest news of him\")\n",
    "\n",
    "print(response)"
   ]
  },
  {
   "cell_type": "markdown",
   "metadata": {},
   "source": [
    "# SQLite database"
   ]
  },
  {
   "cell_type": "code",
   "execution_count": 7,
   "metadata": {},
   "outputs": [
    {
     "name": "stdout",
     "output_type": "stream",
     "text": [
      "Database created and populated with sample data\n"
     ]
    }
   ],
   "source": [
    "import sqlite3\n",
    "\n",
    "connection = sqlite3.connect(\"example_new.db\")\n",
    "cursor = connection.cursor()\n",
    "\n",
    "cursor.execute(\"\"\"\n",
    "CREATE TABLE IF NOT EXISTS inventory (\n",
    "        id INTEGER PRIMARY KEY,\n",
    "        product_name TEXT NOT NULL,\n",
    "        stock_quantity INTEGER NOT NULL\n",
    ")\n",
    "\"\"\")\n",
    "\n",
    "cursor.executemany(\"\"\"\n",
    "INSERT INTO inventory(product_name, stock_quantity) VALUES(?,?)\n",
    "\"\"\", [\n",
    "    (\"Product A\", 150),\n",
    "    (\"Product B\", 250),\n",
    "    (\"Product C\", 350),\n",
    "    (\"Product D\", 450),\n",
    "    (\"Product E\", 550),\n",
    "])\n",
    "\n",
    "connection.commit()\n",
    "connection.close()\n",
    "\n",
    "print(\"Database created and populated with sample data\")"
   ]
  },
  {
   "cell_type": "code",
   "execution_count": 8,
   "metadata": {},
   "outputs": [],
   "source": [
    "from langchain_community.utilities.sql_database import SQLDatabase\n",
    "from langchain_community.agent_toolkits.sql.toolkit import SQLDatabaseToolkit"
   ]
  },
  {
   "cell_type": "code",
   "execution_count": 9,
   "metadata": {},
   "outputs": [
    {
     "name": "stdout",
     "output_type": "stream",
     "text": [
      "\n",
      "\n",
      "\u001b[1m> Entering new AgentExecutor chain...\u001b[0m\n",
      "\u001b[32;1m\u001b[1;3mI need to find the number of units of Product A in stock. I should start by listing the tables in the database to see what tables are available.\n",
      "Action: sql_db_list_tables\n",
      "Action Input:\u001b[0m\n",
      "Observation: \u001b[38;5;200m\u001b[1;3minventory\u001b[0m\n",
      "Thought:\u001b[32;1m\u001b[1;3mI should examine the schema of the `inventory` table to understand its structure and find the relevant columns for product name and stock quantity.\n",
      "Action: sql_db_schema\n",
      "Action Input: inventory\u001b[0m\n",
      "Observation: \u001b[33;1m\u001b[1;3m\n",
      "CREATE TABLE inventory (\n",
      "\tid INTEGER, \n",
      "\tproduct_name TEXT NOT NULL, \n",
      "\tstock_quantity INTEGER NOT NULL, \n",
      "\tPRIMARY KEY (id)\n",
      ")\n",
      "\n",
      "/*\n",
      "3 rows from inventory table:\n",
      "id\tproduct_name\tstock_quantity\n",
      "1\tProduct A\t150\n",
      "2\tProduct B\t250\n",
      "3\tProduct C\t350\n",
      "*/\u001b[0m\n",
      "Thought:\u001b[32;1m\u001b[1;3mI need to query the `inventory` table to find the `stock_quantity` for `product_name` equal to 'Product A'.\n",
      "Action: sql_db_query_checker\n",
      "Action Input: SELECT stock_quantity FROM inventory WHERE product_name = 'Product A'\u001b[0m\n",
      "Observation: \u001b[36;1m\u001b[1;3mSELECT stock_quantity FROM inventory WHERE product_name = 'Product A'\u001b[0m\n",
      "Thought:\u001b[32;1m\u001b[1;3mI need to query the `inventory` table to find the `stock_quantity` for `product_name` equal to 'Product A'.\n",
      "Action: sql_db_query\n",
      "Action Input: SELECT stock_quantity FROM inventory WHERE product_name = 'Product A'\u001b[0m\n",
      "Observation: \u001b[36;1m\u001b[1;3m[(150,), (150,)]\u001b[0m\n",
      "Thought:\u001b[32;1m\u001b[1;3mThere seems to be duplicate rows for 'Product A'. I need to investigate this further, and find a way to get a single number for the total stock of Product A.\n",
      "Action: sql_db_query\n",
      "Action Input: SELECT SUM(stock_quantity) FROM inventory WHERE product_name = 'Product A'\u001b[0m\n",
      "Observation: \u001b[36;1m\u001b[1;3m[(300,)]\u001b[0m\n",
      "Thought:\u001b[32;1m\u001b[1;3mI have found the total stock quantity for Product A by summing the stock quantities from the inventory table.\n",
      "Final Answer: 300\u001b[0m\n",
      "\n",
      "\u001b[1m> Finished chain.\u001b[0m\n",
      "Response: 300\n"
     ]
    }
   ],
   "source": [
    "db = SQLDatabase.from_uri(\"sqlite:///example_new.db\")\n",
    "\n",
    "llm = GoogleGenerativeAI(model=\"gemini-2.0-flash\",google_api_key=API_KEY)\n",
    "\n",
    "toolkit = SQLDatabaseToolkit(db=db,llm=llm)\n",
    "\n",
    "tools = toolkit.get_tools()\n",
    "\n",
    "agent = initialize_agent(tools=tools, llm=llm, agent=\"zero-shot-react-description\", verbose=True)\n",
    "\n",
    "query1=\"How many units of Product A are in stock ?\"\n",
    "response1 = agent.run(query1)\n",
    "print(\"Response:\",response1)"
   ]
  },
  {
   "cell_type": "code",
   "execution_count": 10,
   "metadata": {},
   "outputs": [],
   "source": [
    "from langchain_community.tools.arxiv.tool import ArxivQueryRun"
   ]
  },
  {
   "cell_type": "code",
   "execution_count": null,
   "metadata": {},
   "outputs": [],
   "source": [
    "arxiv_tool = Tool(\n",
    "    name=\"Arxiv Search\",\n",
    "    func=ArxivQueryRun().run,\n",
    "    description=\"Use this tool search academic papers on arXiv. Provide topics, authors, or keywords.\"\n",
    ")\n",
    "\n",
    "llm = GoogleGenerativeAI(model=\"gemini-2.0-flash\",api_key=API_KEY)\n",
    "\n",
    "tools = [arxiv_tool]\n",
    "\n",
    "agent = initialize_agent(\n",
    "    tools=tools,\n",
    "    llm=llm,\n",
    "    agent=\"zero-shot-react-description\",\n",
    "    verbose=True\n",
    ")\n",
    "\n",
    "query = \"Search for research papers on Object Detection in 2024\"\n",
    "response = agent.run(query)\n",
    "print(\"Response from Agent:\")\n",
    "print(response)"
   ]
  }
 ],
 "metadata": {
  "kernelspec": {
   "display_name": "dev",
   "language": "python",
   "name": "python3"
  },
  "language_info": {
   "codemirror_mode": {
    "name": "ipython",
    "version": 3
   },
   "file_extension": ".py",
   "mimetype": "text/x-python",
   "name": "python",
   "nbconvert_exporter": "python",
   "pygments_lexer": "ipython3",
   "version": "3.12.3"
  }
 },
 "nbformat": 4,
 "nbformat_minor": 2
}
