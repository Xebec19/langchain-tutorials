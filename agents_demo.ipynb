{
 "cells": [
  {
   "cell_type": "code",
   "execution_count": 25,
   "metadata": {},
   "outputs": [
    {
     "data": {
      "text/plain": [
       "'0.3.20'"
      ]
     },
     "execution_count": 25,
     "metadata": {},
     "output_type": "execute_result"
    }
   ],
   "source": [
    "import langchain \n",
    "langchain.__version__"
   ]
  },
  {
   "cell_type": "code",
   "execution_count": 26,
   "metadata": {},
   "outputs": [],
   "source": [
    "from langchain.agents import initialize_agent, Tool\n",
    "# from langchain_community.llms import Ollama\n",
    "from langchain_google_genai import GoogleGenerativeAI\n",
    "from dotenv import load_dotenv\n",
    "import os\n"
   ]
  },
  {
   "cell_type": "code",
   "execution_count": 27,
   "metadata": {},
   "outputs": [],
   "source": [
    "load_dotenv()\n",
    "\n",
    "API_KEY = os.getenv(\"GOOGLE_AI_API\")"
   ]
  },
  {
   "cell_type": "markdown",
   "metadata": {},
   "source": [
    "# Search Web"
   ]
  },
  {
   "cell_type": "code",
   "execution_count": 28,
   "metadata": {},
   "outputs": [
    {
     "name": "stdout",
     "output_type": "stream",
     "text": [
      "\n",
      "\n",
      "\u001b[1m> Entering new AgentExecutor chain...\u001b[0m\n",
      "\u001b[32;1m\u001b[1;3mI need to find the top running movies of 2025. Since it is only November 2023, I will need to search for projected or expected top movies of 2025.\n",
      "\n",
      "Action: DuckDuckGo Search\n",
      "Action Input: \"most anticipated movies 2025\"\u001b[0m\n",
      "Observation: \u001b[36;1m\u001b[1;3mFind out what movies are coming in 2025, from superhero blockbusters to musical biopics, horror films to action thrillers. See the release dates, directors, stars, and plot summaries of the most noteworthy titles of the year. Find out what's coming to the big screen in 2025, from superhero sequels to musical adaptations to horror remakes. Rolling Stone's David Fear previews the most exciting films of the year, featuring stars like Tom Cruise, Cate Blanchett, Ariana Grande and more. Find out which movies ticket-buyers are looking forward to in 2025, from Captain America to Jurassic World. See the rankings, genres, performances and more in this article by Fandango staff. Collider staff picks the most exciting films coming out in 2025, including sequels, spin-offs, and adaptations from directors like James Cameron, Guillermo del Toro, and Luca Guadagnino. See the list of 10 movies, from '28 Years Later' to 'Wicked: For Good', and their release dates, genres, and casts. Here are the most anticipated movies coming up in 2025. Back in Action (Jan. 17) This Netflix action comedy from director Seth Gordon ( Baywatch , Identity Thief ) reunites Jamie Foxx and Cameron ...\u001b[0m\n",
      "Thought:\u001b[32;1m\u001b[1;3mI need to compile a list of the most anticipated movies of 2025 from the search results.\n",
      "\n",
      "Action: DuckDuckGo Search\n",
      "Action Input: \"2025 movie releases\"\u001b[0m\n",
      "Observation: \u001b[36;1m\u001b[1;3mA Minecraft Movie (2025) Release Date: April 4, 2025 Director: Jared Hess Starring: Jason Momoa, Jennifer Coolidge, Jack Black, Danielle Brooks, Emma Myers, Matt Berry, Sebastian Eugene Hansen. The hit video game Minecraft is being transformed into a live-action movie. Plot details are still being kept under wraps, but since the world-building ... And that's the biggest upcoming movie releases in 2025! Of course, more films will be announced, and more release dates locked in as the year goes on, so make sure to bookmark this page. Find out when your favorite movies are coming out in 2025, from Marvel blockbusters to musical adaptations. EW's handy calendar lists the release dates for theatrical and streaming movies in 2025. Robert Pattinson in Mickey 17 (Image credit: Warner Bros. Pictures). Release date: March 7; Cast: Robert Pattinson, Naomi Ackie, Steven Yeun, Toni Collette, Mark Ruffalo; Director: Bong Joon Ho; Director Bong Joon Ho returns with his first movie since the Oscar-winning Parasite, which offers plenty to get excited about.Top that off that it is a dark sci-fi comedy starring Robert Pattinson as ... Find out what movies are coming out in 2025, from superhero blockbusters to horror sequels, from Netflix originals to Disney remakes. Browse the monthly lists of titles, ratings, stars and release dates for the year ahead.\u001b[0m\n",
      "Thought:\u001b[32;1m\u001b[1;3mI can combine the information from the search results to create a list of anticipated movies for 2025.\n",
      "\n",
      "Final Answer: Based on the search results, here are some of the most anticipated movies expected to be released in 2025:\n",
      "\n",
      "*   **Minecraft Movie:** (April 4, 2025) Starring Jason Momoa, Jennifer Coolidge, Jack Black.\n",
      "*   **Mickey 17:** (March 7, 2025) Starring Robert Pattinson, Naomi Ackie, Steven Yeun. Directed by Bong Joon Ho.\n",
      "*   **Back in Action:** (January 17, 2025) Starring Jamie Foxx and Cameron Diaz (Netflix).\n",
      "\n",
      "It's important to note that this list is not exhaustive and more films will be announced with release dates as the year progresses. Also, release dates are subject to change.\u001b[0m\n",
      "\n",
      "\u001b[1m> Finished chain.\u001b[0m\n"
     ]
    }
   ],
   "source": [
    "from langchain_community.tools.ddg_search.tool import DuckDuckGoSearchRun\n",
    "\n",
    "search_tool = Tool(\n",
    "    name = \"DuckDuckGo Search\",\n",
    "    func= DuckDuckGoSearchRun().run,\n",
    "    description=\"Use this tool to perform web searches using DuckDuckGo\"\n",
    ")\n",
    "\n",
    "llm = GoogleGenerativeAI(model=\"gemini-2.0-flash\", google_api_key=API_KEY)\n",
    "\n",
    "tool = [search_tool]\n",
    "\n",
    "agent = initialize_agent(tool, llm, agent=\"zero-shot-react-description\", verbose=True)\n",
    "\n",
    "response = agent.run(\"What are the latest top running movies in 2025\")"
   ]
  },
  {
   "cell_type": "markdown",
   "metadata": {},
   "source": []
  },
  {
   "cell_type": "markdown",
   "metadata": {},
   "source": [
    "# Wikipedia Search"
   ]
  },
  {
   "cell_type": "code",
   "execution_count": 31,
   "metadata": {},
   "outputs": [
    {
     "name": "stdout",
     "output_type": "stream",
     "text": [
      "\n",
      "\n",
      "\u001b[1m> Entering new AgentExecutor chain...\u001b[0m\n",
      "\u001b[32;1m\u001b[1;3mI need to find information about Elon Musk and recent news related to him. I will start by searching Wikipedia for a general overview of who he is. Then, I will search for recent news articles.\n",
      "\n",
      "Action: Wikipedia Search\n",
      "Action Input: Elon Musk\u001b[0m"
     ]
    },
    {
     "name": "stderr",
     "output_type": "stream",
     "text": [
      "/home/rohan/miniconda3/envs/dev/lib/python3.12/site-packages/wikipedia/wikipedia.py:389: GuessedAtParserWarning: No parser was explicitly specified, so I'm using the best available HTML parser for this system (\"lxml\"). This usually isn't a problem, but if you run this code on another system, or in a different virtual environment, it may use a different parser and behave differently.\n",
      "\n",
      "The code that caused this warning is on line 389 of the file /home/rohan/miniconda3/envs/dev/lib/python3.12/site-packages/wikipedia/wikipedia.py. To get rid of this warning, pass the additional argument 'features=\"lxml\"' to the BeautifulSoup constructor.\n",
      "\n",
      "  lis = BeautifulSoup(html).find_all('li')\n"
     ]
    },
    {
     "name": "stdout",
     "output_type": "stream",
     "text": [
      "\n",
      "Observation: \u001b[36;1m\u001b[1;3mPage: Elon Musk\n",
      "Summary: Elon Reeve Musk ( EE-lon; born June 28, 1971) is a businessman known for his key roles in Tesla, Inc., SpaceX, and Twitter (which he rebranded as X). Since 2025, he has been a senior advisor to United States president Donald Trump and de facto head of the Department of Government Efficiency (DOGE). Musk is the wealthiest person in the world; as of February 2025, Forbes estimates his net worth to be US$353 billion. \n",
      "Born to a prominent family in Pretoria, South Africa, Musk emigrated to Canada in 1989 and acquired its citizenship though his mother. He moved to the U.S. and graduated from the University of Pennsylvania before moving to California to pursue business ventures. In 1995, Musk co-founded the software company Zip2. After its sale in 1999, he co-founded X.com, an online payment company that later merged to form PayPal, which was acquired by eBay in 2002 for $1.5 billion. That year, Musk also became a U.S. citizen.\n",
      "In 2002, Musk founded SpaceX and became its CEO and chief engineer. The company has since led innovations in reusable rockets and commercial spaceflight. In 2004, Musk joined Tesla, Inc., as an early investor, and became its CEO and product architect in 2008; it has become a market leader in electric vehicles. In 2015, he co-founded OpenAI to advance artificial intelligence research, but left its board in 2018. In 2016, Musk co-founded Neuralink, a company focused on brain–computer interfaces, and in 2017 launched the Boring Company, which aims to develop tunnel transportation. Musk was named Time magazine's Person of the Year in 2021. In 2022, he acquired Twitter, implementing significant changes and rebranding it as X in 2023. In January 2025, he was appointed head of Trump's newly created DOGE.\n",
      "Musk's political activities and views have made him a polarizing figure. He has been criticized for making unscientific and misleading statements, including COVID-19 misinformation and promoting conspiracy theories. His acquisition of Twitter (now X) was controversial due to a subsequent increase in hate speech and the spread of misinformation on the service. He has engaged in political activities in several countries, including as a vocal and financial supporter of Trump. Musk was the largest donor in the 2024 U.S. presidential election and is a supporter of global far-right figures, causes, and political parties.\n",
      "\n",
      "Page: Elon Musk salute controversy\n",
      "Summary: On January 20, 2025, while speaking at a rally celebrating U.S. president Donald Trump's second inauguration, businessman and political figure Elon Musk twice made a salute interpreted by some as a Nazi or the fascist Roman salute.\n",
      "On his own social media platform, X (formerly Twitter), Musk dismissed the accusations of Nazi sympathies, derided them as being politicized, and described them as a \"tired\" attack. The Anti-Defamation League defended Musk and argued that the gesture carried no significant meaning, but other Jewish organizations have condemned the gesture. Multiple European political parties demanded that Musk be banned from entering their countries. Neo-Nazi and white supremacist groups celebrated the salutes.\u001b[0m\n",
      "Thought:\u001b[32;1m\u001b[1;3mI have gathered information about Elon Musk from Wikipedia. Now I can provide a summary.\n",
      "\n",
      "Final Answer: Elon Reeve Musk (born June 28, 1971) is a businessman known for his key roles in Tesla, Inc., SpaceX, and Twitter (which he rebranded as X). Since 2025, he has been a senior advisor to United States president Donald Trump and de facto head of the Department of Government Efficiency (DOGE). Musk is the wealthiest person in the world; as of February 2025, Forbes estimates his net worth to be US$353 billion.\n",
      "On January 20, 2025, while speaking at a rally celebrating U.S. president Donald Trump's second inauguration, Elon Musk twice made a salute interpreted by some as a Nazi or the fascist Roman salute.\u001b[0m\n",
      "\n",
      "\u001b[1m> Finished chain.\u001b[0m\n",
      "Elon Reeve Musk (born June 28, 1971) is a businessman known for his key roles in Tesla, Inc., SpaceX, and Twitter (which he rebranded as X). Since 2025, he has been a senior advisor to United States president Donald Trump and de facto head of the Department of Government Efficiency (DOGE). Musk is the wealthiest person in the world; as of February 2025, Forbes estimates his net worth to be US$353 billion.\n",
      "On January 20, 2025, while speaking at a rally celebrating U.S. president Donald Trump's second inauguration, Elon Musk twice made a salute interpreted by some as a Nazi or the fascist Roman salute.\n"
     ]
    }
   ],
   "source": [
    "from langchain_community.utilities.wikipedia import WikipediaAPIWrapper\n",
    "\n",
    "wiki_search_tool = Tool(\n",
    "    name=\"Wikipedia Search\",\n",
    "    func=WikipediaAPIWrapper().run,\n",
    "    description=\"Use this tool to search Wikipedia for information on any topic\"\n",
    ")\n",
    "\n",
    "llm = GoogleGenerativeAI(model=\"gemini-2.0-flash\",google_api_key=API_KEY)\n",
    "\n",
    "\n",
    "tool = [wiki_search_tool]\n",
    "\n",
    "agent = initialize_agent(tool, llm, agent=\"zero-shot-react-description\", verbose=True)\n",
    "\n",
    "response = agent.run(\"Who is Elon Musk? Tell me the latest news of him\")\n",
    "\n",
    "print(response)"
   ]
  },
  {
   "cell_type": "markdown",
   "metadata": {},
   "source": [
    "# SQLite database"
   ]
  },
  {
   "cell_type": "code",
   "execution_count": 1,
   "metadata": {},
   "outputs": [
    {
     "name": "stdout",
     "output_type": "stream",
     "text": [
      "Database created and populated with sample data\n"
     ]
    }
   ],
   "source": [
    "import sqlite3\n",
    "\n",
    "connection = sqlite3.connect(\"example_new.db\")\n",
    "cursor = connection.cursor()\n",
    "\n",
    "cursor.execute(\"\"\"\n",
    "CREATE TABLE IF NOT EXISTS inventory (\n",
    "        id INTEGER PRIMARY KEY,\n",
    "        product_name TEXT NOT NULL,\n",
    "        stock_quantity INTEGER NOT NULL\n",
    ")\n",
    "\"\"\")\n",
    "\n",
    "cursor.executemany(\"\"\"\n",
    "INSERT INTO inventory(product_name, stock_quantity) VALUES(?,?)\n",
    "\"\"\", [\n",
    "    (\"Product A\", 150),\n",
    "    (\"Product B\", 250),\n",
    "    (\"Product C\", 350),\n",
    "    (\"Product D\", 450),\n",
    "    (\"Product E\", 550),\n",
    "])\n",
    "\n",
    "connection.commit()\n",
    "connection.close()\n",
    "\n",
    "print(\"Database created and populated with sample data\")"
   ]
  },
  {
   "cell_type": "code",
   "execution_count": 1,
   "metadata": {},
   "outputs": [],
   "source": [
    "from langchain_community.utilities.sql_database import SQLDatabase\n",
    "from langchain_community.agent_toolkits.sql.toolkit import SQLDatabaseToolkit"
   ]
  },
  {
   "cell_type": "code",
   "execution_count": null,
   "metadata": {},
   "outputs": [],
   "source": [
    "db = SQLDatabase.from_uri(\"sqlite:///example_new.db\")\n",
    "\n",
    "llm = GoogleGenerativeAI(model=\"gemini-2.0-flash\",google_api_key=API_KEY)\n",
    "\n",
    "toolkit = SQLDatabaseToolkit(db=db,llm=llm)\n",
    "\n",
    "tools = toolkit.get_tools()\n",
    "\n",
    "agent = initialize_agent(tools=tools, llm=llm, agent=\"zero-shot-react-description\", verbose=True)\n",
    "\n",
    "query1=\"How many units of Product A are in stock ?\"\n",
    "response1 = agent.run(query1)\n",
    "print(\"Response:\",response1)"
   ]
  }
 ],
 "metadata": {
  "kernelspec": {
   "display_name": "dev",
   "language": "python",
   "name": "python3"
  },
  "language_info": {
   "codemirror_mode": {
    "name": "ipython",
    "version": 3
   },
   "file_extension": ".py",
   "mimetype": "text/x-python",
   "name": "python",
   "nbconvert_exporter": "python",
   "pygments_lexer": "ipython3",
   "version": "3.12.3"
  }
 },
 "nbformat": 4,
 "nbformat_minor": 2
}
