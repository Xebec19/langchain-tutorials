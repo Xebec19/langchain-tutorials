{
  "cells": [
    {
      "cell_type": "markdown",
      "metadata": {
        "colab_type": "text",
        "id": "view-in-github"
      },
      "source": [
        "<a href=\"https://colab.research.google.com/github/Xebec19/langchain-tutorials/blob/main/chatbot.ipynb\" target=\"_parent\"><img src=\"https://colab.research.google.com/assets/colab-badge.svg\" alt=\"Open In Colab\"/></a>"
      ]
    },
    {
      "cell_type": "code",
      "execution_count": 2,
      "metadata": {
        "colab": {
          "base_uri": "https://localhost:8080/",
          "height": 1000
        },
        "id": "4MN_FY1IZIHL",
        "outputId": "44da6e1f-c362-4663-caa3-1965485dc075"
      },
      "outputs": [
        {
          "name": "stdout",
          "output_type": "stream",
          "text": [
            "Requirement already satisfied: langgraph in /home/rohan/miniconda3/envs/dev/lib/python3.12/site-packages (0.3.5)\n",
            "Requirement already satisfied: langsmith in /home/rohan/miniconda3/envs/dev/lib/python3.12/site-packages (0.3.11)\n",
            "Requirement already satisfied: langchain-community in /home/rohan/miniconda3/envs/dev/lib/python3.12/site-packages (0.3.19)\n",
            "Requirement already satisfied: ollama in /home/rohan/miniconda3/envs/dev/lib/python3.12/site-packages (0.4.7)\n",
            "Requirement already satisfied: langchain-core<0.4,>=0.1 in /home/rohan/miniconda3/envs/dev/lib/python3.12/site-packages (from langgraph) (0.3.41)\n",
            "Requirement already satisfied: langgraph-checkpoint<3.0.0,>=2.0.10 in /home/rohan/miniconda3/envs/dev/lib/python3.12/site-packages (from langgraph) (2.0.16)\n",
            "Requirement already satisfied: langgraph-prebuilt<0.2,>=0.1.1 in /home/rohan/miniconda3/envs/dev/lib/python3.12/site-packages (from langgraph) (0.1.2)\n",
            "Requirement already satisfied: langgraph-sdk<0.2.0,>=0.1.42 in /home/rohan/miniconda3/envs/dev/lib/python3.12/site-packages (from langgraph) (0.1.53)\n",
            "Requirement already satisfied: httpx<1,>=0.23.0 in /home/rohan/miniconda3/envs/dev/lib/python3.12/site-packages (from langsmith) (0.28.1)\n",
            "Requirement already satisfied: orjson<4.0.0,>=3.9.14 in /home/rohan/miniconda3/envs/dev/lib/python3.12/site-packages (from langsmith) (3.10.15)\n",
            "Requirement already satisfied: packaging>=23.2 in /home/rohan/miniconda3/envs/dev/lib/python3.12/site-packages (from langsmith) (24.1)\n",
            "Requirement already satisfied: pydantic<3,>=1 in /home/rohan/miniconda3/envs/dev/lib/python3.12/site-packages (from langsmith) (2.10.6)\n",
            "Requirement already satisfied: requests<3,>=2 in /home/rohan/miniconda3/envs/dev/lib/python3.12/site-packages (from langsmith) (2.32.3)\n",
            "Requirement already satisfied: requests-toolbelt<2.0.0,>=1.0.0 in /home/rohan/miniconda3/envs/dev/lib/python3.12/site-packages (from langsmith) (1.0.0)\n",
            "Requirement already satisfied: zstandard<0.24.0,>=0.23.0 in /home/rohan/miniconda3/envs/dev/lib/python3.12/site-packages (from langsmith) (0.23.0)\n",
            "Requirement already satisfied: langchain<1.0.0,>=0.3.20 in /home/rohan/miniconda3/envs/dev/lib/python3.12/site-packages (from langchain-community) (0.3.20)\n",
            "Requirement already satisfied: SQLAlchemy<3,>=1.4 in /home/rohan/miniconda3/envs/dev/lib/python3.12/site-packages (from langchain-community) (2.0.38)\n",
            "Requirement already satisfied: PyYAML>=5.3 in /home/rohan/miniconda3/envs/dev/lib/python3.12/site-packages (from langchain-community) (6.0.2)\n",
            "Requirement already satisfied: aiohttp<4.0.0,>=3.8.3 in /home/rohan/miniconda3/envs/dev/lib/python3.12/site-packages (from langchain-community) (3.11.13)\n",
            "Requirement already satisfied: tenacity!=8.4.0,<10,>=8.1.0 in /home/rohan/miniconda3/envs/dev/lib/python3.12/site-packages (from langchain-community) (9.0.0)\n",
            "Requirement already satisfied: dataclasses-json<0.7,>=0.5.7 in /home/rohan/miniconda3/envs/dev/lib/python3.12/site-packages (from langchain-community) (0.6.7)\n",
            "Requirement already satisfied: pydantic-settings<3.0.0,>=2.4.0 in /home/rohan/miniconda3/envs/dev/lib/python3.12/site-packages (from langchain-community) (2.8.0)\n",
            "Requirement already satisfied: httpx-sse<1.0.0,>=0.4.0 in /home/rohan/miniconda3/envs/dev/lib/python3.12/site-packages (from langchain-community) (0.4.0)\n",
            "Requirement already satisfied: numpy<3,>=1.26.2 in /home/rohan/miniconda3/envs/dev/lib/python3.12/site-packages (from langchain-community) (2.1.1)\n",
            "Requirement already satisfied: aiohappyeyeballs>=2.3.0 in /home/rohan/miniconda3/envs/dev/lib/python3.12/site-packages (from aiohttp<4.0.0,>=3.8.3->langchain-community) (2.4.6)\n",
            "Requirement already satisfied: aiosignal>=1.1.2 in /home/rohan/miniconda3/envs/dev/lib/python3.12/site-packages (from aiohttp<4.0.0,>=3.8.3->langchain-community) (1.3.2)\n",
            "Requirement already satisfied: attrs>=17.3.0 in /home/rohan/miniconda3/envs/dev/lib/python3.12/site-packages (from aiohttp<4.0.0,>=3.8.3->langchain-community) (25.1.0)\n",
            "Requirement already satisfied: frozenlist>=1.1.1 in /home/rohan/miniconda3/envs/dev/lib/python3.12/site-packages (from aiohttp<4.0.0,>=3.8.3->langchain-community) (1.5.0)\n",
            "Requirement already satisfied: multidict<7.0,>=4.5 in /home/rohan/miniconda3/envs/dev/lib/python3.12/site-packages (from aiohttp<4.0.0,>=3.8.3->langchain-community) (6.1.0)\n",
            "Requirement already satisfied: propcache>=0.2.0 in /home/rohan/miniconda3/envs/dev/lib/python3.12/site-packages (from aiohttp<4.0.0,>=3.8.3->langchain-community) (0.3.0)\n",
            "Requirement already satisfied: yarl<2.0,>=1.17.0 in /home/rohan/miniconda3/envs/dev/lib/python3.12/site-packages (from aiohttp<4.0.0,>=3.8.3->langchain-community) (1.18.3)\n",
            "Requirement already satisfied: marshmallow<4.0.0,>=3.18.0 in /home/rohan/miniconda3/envs/dev/lib/python3.12/site-packages (from dataclasses-json<0.7,>=0.5.7->langchain-community) (3.26.1)\n",
            "Requirement already satisfied: typing-inspect<1,>=0.4.0 in /home/rohan/miniconda3/envs/dev/lib/python3.12/site-packages (from dataclasses-json<0.7,>=0.5.7->langchain-community) (0.9.0)\n",
            "Requirement already satisfied: anyio in /home/rohan/miniconda3/envs/dev/lib/python3.12/site-packages (from httpx<1,>=0.23.0->langsmith) (4.8.0)\n",
            "Requirement already satisfied: certifi in /home/rohan/miniconda3/envs/dev/lib/python3.12/site-packages (from httpx<1,>=0.23.0->langsmith) (2024.8.30)\n",
            "Requirement already satisfied: httpcore==1.* in /home/rohan/miniconda3/envs/dev/lib/python3.12/site-packages (from httpx<1,>=0.23.0->langsmith) (1.0.7)\n",
            "Requirement already satisfied: idna in /home/rohan/miniconda3/envs/dev/lib/python3.12/site-packages (from httpx<1,>=0.23.0->langsmith) (3.7)\n",
            "Requirement already satisfied: h11<0.15,>=0.13 in /home/rohan/miniconda3/envs/dev/lib/python3.12/site-packages (from httpcore==1.*->httpx<1,>=0.23.0->langsmith) (0.14.0)\n",
            "Requirement already satisfied: langchain-text-splitters<1.0.0,>=0.3.6 in /home/rohan/miniconda3/envs/dev/lib/python3.12/site-packages (from langchain<1.0.0,>=0.3.20->langchain-community) (0.3.6)\n",
            "Requirement already satisfied: jsonpatch<2.0,>=1.33 in /home/rohan/miniconda3/envs/dev/lib/python3.12/site-packages (from langchain-core<0.4,>=0.1->langgraph) (1.33)\n",
            "Requirement already satisfied: typing-extensions>=4.7 in /home/rohan/miniconda3/envs/dev/lib/python3.12/site-packages (from langchain-core<0.4,>=0.1->langgraph) (4.12.2)\n",
            "Requirement already satisfied: msgpack<2.0.0,>=1.1.0 in /home/rohan/miniconda3/envs/dev/lib/python3.12/site-packages (from langgraph-checkpoint<3.0.0,>=2.0.10->langgraph) (1.1.0)\n",
            "Requirement already satisfied: annotated-types>=0.6.0 in /home/rohan/miniconda3/envs/dev/lib/python3.12/site-packages (from pydantic<3,>=1->langsmith) (0.7.0)\n",
            "Requirement already satisfied: pydantic-core==2.27.2 in /home/rohan/miniconda3/envs/dev/lib/python3.12/site-packages (from pydantic<3,>=1->langsmith) (2.27.2)\n",
            "Requirement already satisfied: python-dotenv>=0.21.0 in /home/rohan/miniconda3/envs/dev/lib/python3.12/site-packages (from pydantic-settings<3.0.0,>=2.4.0->langchain-community) (1.0.1)\n",
            "Requirement already satisfied: charset-normalizer<4,>=2 in /home/rohan/miniconda3/envs/dev/lib/python3.12/site-packages (from requests<3,>=2->langsmith) (3.3.2)\n",
            "Requirement already satisfied: urllib3<3,>=1.21.1 in /home/rohan/miniconda3/envs/dev/lib/python3.12/site-packages (from requests<3,>=2->langsmith) (2.2.3)\n",
            "Requirement already satisfied: greenlet!=0.4.17 in /home/rohan/miniconda3/envs/dev/lib/python3.12/site-packages (from SQLAlchemy<3,>=1.4->langchain-community) (3.1.1)\n",
            "Requirement already satisfied: jsonpointer>=1.9 in /home/rohan/miniconda3/envs/dev/lib/python3.12/site-packages (from jsonpatch<2.0,>=1.33->langchain-core<0.4,>=0.1->langgraph) (3.0.0)\n",
            "Requirement already satisfied: mypy-extensions>=0.3.0 in /home/rohan/miniconda3/envs/dev/lib/python3.12/site-packages (from typing-inspect<1,>=0.4.0->dataclasses-json<0.7,>=0.5.7->langchain-community) (1.0.0)\n",
            "Requirement already satisfied: sniffio>=1.1 in /home/rohan/miniconda3/envs/dev/lib/python3.12/site-packages (from anyio->httpx<1,>=0.23.0->langsmith) (1.3.1)\n"
          ]
        }
      ],
      "source": [
        "!pip install -U langgraph langsmith langchain-community ollama\n",
        "\n",
        "from langchain_community.llms import Ollama\n",
        "from langgraph.checkpoint.memory import MemorySaver\n",
        "from langgraph.graph import START, MessagesState, StateGraph, END\n",
        "from langchain_core.messages import HumanMessage, AIMessage\n",
        "\n",
        "# Initialize the Ollama model\n",
        "llm = Ollama(model=\"deepseek-r1\")\n",
        "\n",
        "# Define a new graph\n",
        "workflow = StateGraph(state_schema=MessagesState)\n",
        "\n",
        "# Define the function that calls the model\n",
        "def call_model(state: MessagesState):\n",
        "    messages = state[\"messages\"]\n",
        "    response = llm.invoke(messages)\n",
        "    return {\"messages\": messages + [AIMessage(content=response)]}\n",
        "\n",
        "# Add node and edges\n",
        "workflow.add_node(\"model\", call_model)\n",
        "workflow.add_edge(START, \"model\")\n",
        "workflow.add_edge(\"model\", END)  # Need to add END to complete the graph\n",
        "\n",
        "# Add memory\n",
        "memory = MemorySaver()\n",
        "app = workflow.compile(checkpointer=memory)\n",
        "\n",
        "# Add a thread_id\n",
        "config = {\"configurable\": {\"thread_id\": \"abc123\"}}\n",
        "\n",
        "# Restore the built-in input function if needed\n",
        "import builtins\n",
        "input = builtins.input\n",
        "\n",
        "# Interactive loop\n",
        "while True:\n",
        "    query = input(\"Enter (type 'q' to quit): \")\n",
        "    if query.lower() == \"q\":\n",
        "        break\n",
        "\n",
        "    input_messages = [HumanMessage(content=query)]\n",
        "    output = app.invoke({\"messages\": input_messages}, config)\n",
        "\n",
        "    # Print the last message\n",
        "    if output[\"messages\"]:\n",
        "        print(\"\\nAI Response:\")\n",
        "        output[\"messages\"][-1].pretty_print()\n",
        "    print()"
      ]
    }
  ],
  "metadata": {
    "colab": {
      "authorship_tag": "ABX9TyOh1GBIaWTwluqmPoueLjHU",
      "include_colab_link": true,
      "provenance": []
    },
    "kernelspec": {
      "display_name": "dev",
      "language": "python",
      "name": "python3"
    },
    "language_info": {
      "codemirror_mode": {
        "name": "ipython",
        "version": 3
      },
      "file_extension": ".py",
      "mimetype": "text/x-python",
      "name": "python",
      "nbconvert_exporter": "python",
      "pygments_lexer": "ipython3",
      "version": "3.12.3"
    }
  },
  "nbformat": 4,
  "nbformat_minor": 0
}
