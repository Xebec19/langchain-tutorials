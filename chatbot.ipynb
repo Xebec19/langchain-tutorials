{
 "cells": [
  {
   "cell_type": "code",
   "execution_count": 4,
   "metadata": {},
   "outputs": [
    {
     "name": "stdout",
     "output_type": "stream",
     "text": [
      "Requirement already satisfied: langchain in /home/rohan/miniconda3/envs/dev/lib/python3.12/site-packages (0.3.19)\n",
      "Requirement already satisfied: langchain-community in /home/rohan/miniconda3/envs/dev/lib/python3.12/site-packages (0.3.18)\n",
      "Requirement already satisfied: ollama in /home/rohan/miniconda3/envs/dev/lib/python3.12/site-packages (0.4.7)\n",
      "Requirement already satisfied: langchain-core<1.0.0,>=0.3.35 in /home/rohan/miniconda3/envs/dev/lib/python3.12/site-packages (from langchain) (0.3.39)\n",
      "Requirement already satisfied: langchain-text-splitters<1.0.0,>=0.3.6 in /home/rohan/miniconda3/envs/dev/lib/python3.12/site-packages (from langchain) (0.3.6)\n",
      "Requirement already satisfied: langsmith<0.4,>=0.1.17 in /home/rohan/miniconda3/envs/dev/lib/python3.12/site-packages (from langchain) (0.3.10)\n",
      "Requirement already satisfied: pydantic<3.0.0,>=2.7.4 in /home/rohan/miniconda3/envs/dev/lib/python3.12/site-packages (from langchain) (2.10.6)\n",
      "Requirement already satisfied: SQLAlchemy<3,>=1.4 in /home/rohan/miniconda3/envs/dev/lib/python3.12/site-packages (from langchain) (2.0.38)\n",
      "Requirement already satisfied: requests<3,>=2 in /home/rohan/miniconda3/envs/dev/lib/python3.12/site-packages (from langchain) (2.32.3)\n",
      "Requirement already satisfied: PyYAML>=5.3 in /home/rohan/miniconda3/envs/dev/lib/python3.12/site-packages (from langchain) (6.0.2)\n",
      "Requirement already satisfied: aiohttp<4.0.0,>=3.8.3 in /home/rohan/miniconda3/envs/dev/lib/python3.12/site-packages (from langchain) (3.11.13)\n",
      "Requirement already satisfied: tenacity!=8.4.0,<10,>=8.1.0 in /home/rohan/miniconda3/envs/dev/lib/python3.12/site-packages (from langchain) (9.0.0)\n",
      "Requirement already satisfied: numpy<3,>=1.26.2 in /home/rohan/miniconda3/envs/dev/lib/python3.12/site-packages (from langchain) (2.1.1)\n",
      "Requirement already satisfied: dataclasses-json<0.7,>=0.5.7 in /home/rohan/miniconda3/envs/dev/lib/python3.12/site-packages (from langchain-community) (0.6.7)\n",
      "Requirement already satisfied: pydantic-settings<3.0.0,>=2.4.0 in /home/rohan/miniconda3/envs/dev/lib/python3.12/site-packages (from langchain-community) (2.8.0)\n",
      "Requirement already satisfied: httpx-sse<1.0.0,>=0.4.0 in /home/rohan/miniconda3/envs/dev/lib/python3.12/site-packages (from langchain-community) (0.4.0)\n",
      "Requirement already satisfied: httpx<0.29,>=0.27 in /home/rohan/miniconda3/envs/dev/lib/python3.12/site-packages (from ollama) (0.28.1)\n",
      "Requirement already satisfied: aiohappyeyeballs>=2.3.0 in /home/rohan/miniconda3/envs/dev/lib/python3.12/site-packages (from aiohttp<4.0.0,>=3.8.3->langchain) (2.4.6)\n",
      "Requirement already satisfied: aiosignal>=1.1.2 in /home/rohan/miniconda3/envs/dev/lib/python3.12/site-packages (from aiohttp<4.0.0,>=3.8.3->langchain) (1.3.2)\n",
      "Requirement already satisfied: attrs>=17.3.0 in /home/rohan/miniconda3/envs/dev/lib/python3.12/site-packages (from aiohttp<4.0.0,>=3.8.3->langchain) (25.1.0)\n",
      "Requirement already satisfied: frozenlist>=1.1.1 in /home/rohan/miniconda3/envs/dev/lib/python3.12/site-packages (from aiohttp<4.0.0,>=3.8.3->langchain) (1.5.0)\n",
      "Requirement already satisfied: multidict<7.0,>=4.5 in /home/rohan/miniconda3/envs/dev/lib/python3.12/site-packages (from aiohttp<4.0.0,>=3.8.3->langchain) (6.1.0)\n",
      "Requirement already satisfied: propcache>=0.2.0 in /home/rohan/miniconda3/envs/dev/lib/python3.12/site-packages (from aiohttp<4.0.0,>=3.8.3->langchain) (0.3.0)\n",
      "Requirement already satisfied: yarl<2.0,>=1.17.0 in /home/rohan/miniconda3/envs/dev/lib/python3.12/site-packages (from aiohttp<4.0.0,>=3.8.3->langchain) (1.18.3)\n",
      "Requirement already satisfied: marshmallow<4.0.0,>=3.18.0 in /home/rohan/miniconda3/envs/dev/lib/python3.12/site-packages (from dataclasses-json<0.7,>=0.5.7->langchain-community) (3.26.1)\n",
      "Requirement already satisfied: typing-inspect<1,>=0.4.0 in /home/rohan/miniconda3/envs/dev/lib/python3.12/site-packages (from dataclasses-json<0.7,>=0.5.7->langchain-community) (0.9.0)\n",
      "Requirement already satisfied: anyio in /home/rohan/miniconda3/envs/dev/lib/python3.12/site-packages (from httpx<0.29,>=0.27->ollama) (4.8.0)\n",
      "Requirement already satisfied: certifi in /home/rohan/miniconda3/envs/dev/lib/python3.12/site-packages (from httpx<0.29,>=0.27->ollama) (2024.8.30)\n",
      "Requirement already satisfied: httpcore==1.* in /home/rohan/miniconda3/envs/dev/lib/python3.12/site-packages (from httpx<0.29,>=0.27->ollama) (1.0.7)\n",
      "Requirement already satisfied: idna in /home/rohan/miniconda3/envs/dev/lib/python3.12/site-packages (from httpx<0.29,>=0.27->ollama) (3.7)\n",
      "Requirement already satisfied: h11<0.15,>=0.13 in /home/rohan/miniconda3/envs/dev/lib/python3.12/site-packages (from httpcore==1.*->httpx<0.29,>=0.27->ollama) (0.14.0)\n",
      "Requirement already satisfied: jsonpatch<2.0,>=1.33 in /home/rohan/miniconda3/envs/dev/lib/python3.12/site-packages (from langchain-core<1.0.0,>=0.3.35->langchain) (1.33)\n",
      "Requirement already satisfied: packaging<25,>=23.2 in /home/rohan/miniconda3/envs/dev/lib/python3.12/site-packages (from langchain-core<1.0.0,>=0.3.35->langchain) (24.1)\n",
      "Requirement already satisfied: typing-extensions>=4.7 in /home/rohan/miniconda3/envs/dev/lib/python3.12/site-packages (from langchain-core<1.0.0,>=0.3.35->langchain) (4.12.2)\n",
      "Requirement already satisfied: orjson<4.0.0,>=3.9.14 in /home/rohan/miniconda3/envs/dev/lib/python3.12/site-packages (from langsmith<0.4,>=0.1.17->langchain) (3.10.15)\n",
      "Requirement already satisfied: requests-toolbelt<2.0.0,>=1.0.0 in /home/rohan/miniconda3/envs/dev/lib/python3.12/site-packages (from langsmith<0.4,>=0.1.17->langchain) (1.0.0)\n",
      "Requirement already satisfied: zstandard<0.24.0,>=0.23.0 in /home/rohan/miniconda3/envs/dev/lib/python3.12/site-packages (from langsmith<0.4,>=0.1.17->langchain) (0.23.0)\n",
      "Requirement already satisfied: annotated-types>=0.6.0 in /home/rohan/miniconda3/envs/dev/lib/python3.12/site-packages (from pydantic<3.0.0,>=2.7.4->langchain) (0.7.0)\n",
      "Requirement already satisfied: pydantic-core==2.27.2 in /home/rohan/miniconda3/envs/dev/lib/python3.12/site-packages (from pydantic<3.0.0,>=2.7.4->langchain) (2.27.2)\n",
      "Requirement already satisfied: python-dotenv>=0.21.0 in /home/rohan/miniconda3/envs/dev/lib/python3.12/site-packages (from pydantic-settings<3.0.0,>=2.4.0->langchain-community) (1.0.1)\n",
      "Requirement already satisfied: charset-normalizer<4,>=2 in /home/rohan/miniconda3/envs/dev/lib/python3.12/site-packages (from requests<3,>=2->langchain) (3.3.2)\n",
      "Requirement already satisfied: urllib3<3,>=1.21.1 in /home/rohan/miniconda3/envs/dev/lib/python3.12/site-packages (from requests<3,>=2->langchain) (2.2.3)\n",
      "Requirement already satisfied: greenlet!=0.4.17 in /home/rohan/miniconda3/envs/dev/lib/python3.12/site-packages (from SQLAlchemy<3,>=1.4->langchain) (3.1.1)\n",
      "Requirement already satisfied: jsonpointer>=1.9 in /home/rohan/miniconda3/envs/dev/lib/python3.12/site-packages (from jsonpatch<2.0,>=1.33->langchain-core<1.0.0,>=0.3.35->langchain) (3.0.0)\n",
      "Requirement already satisfied: mypy-extensions>=0.3.0 in /home/rohan/miniconda3/envs/dev/lib/python3.12/site-packages (from typing-inspect<1,>=0.4.0->dataclasses-json<0.7,>=0.5.7->langchain-community) (1.0.0)\n",
      "Requirement already satisfied: sniffio>=1.1 in /home/rohan/miniconda3/envs/dev/lib/python3.12/site-packages (from anyio->httpx<0.29,>=0.27->ollama) (1.3.1)\n",
      "<think>\n",
      "\n",
      "</think>\n",
      "\n",
      "LangChain, short for Language Chain, is a framework developed by OpenAI that facilitates the creation of complex reasoning models using language models. It allows users to build applications that can generate, analyze, and reason about text in a structured way.\n",
      "\n",
      "### Key Components:\n",
      "1. **Base Model**: A pre-trained language model (like GPT) that handles tokenization, attention, and generates text.\n",
      "2. **Chain of Thought**: This feature enables the system to simulate human-like reasoning by chaining together previous responses and new inputs to draw conclusions.\n",
      "3. **Explainable AI (XAI)**: LangChain integrates with tools like `explanation-building` to make AI decisions more transparent.\n",
      "\n",
      "### Use Cases:\n",
      "- **Problem Solving**: Helps in solving complex problems by breaking them down into smaller steps.\n",
      "- **Creative Writing**: Assists writers by generating prompts or ideas and refining content.\n",
      "- **Education**: Provides educational tools for learning and teaching, such as step-by-step explanations.\n",
      "- **Customer Support**: Offers conversational agents that can reason through issues and provide solutions.\n",
      "\n",
      "### Example Workflow:\n",
      "1. User poses a complex question.\n",
      "2. LangChain breaks it down into smaller questions.\n",
      "3. The base model generates intermediate answers.\n",
      "4. The chain of thought combines these answers to form a comprehensive response.\n",
      "\n",
      "LangChain is widely used in various applications, from customer support to creative writing, making AI systems more capable and transparent.\n"
     ]
    }
   ],
   "source": [
    "!pip install langchain langchain-community ollama\n",
    "\n",
    "from langchain_community.llms import Ollama\n",
    "\n",
    "llm = Ollama(model=\"deepseek-r1\")\n",
    "\n",
    "response = llm.invoke(\"What is LangChain?\")\n",
    "print(response)"
   ]
  }
 ],
 "metadata": {
  "kernelspec": {
   "display_name": "dev",
   "language": "python",
   "name": "python3"
  },
  "language_info": {
   "codemirror_mode": {
    "name": "ipython",
    "version": 3
   },
   "file_extension": ".py",
   "mimetype": "text/x-python",
   "name": "python",
   "nbconvert_exporter": "python",
   "pygments_lexer": "ipython3",
   "version": "3.12.3"
  }
 },
 "nbformat": 4,
 "nbformat_minor": 2
}
